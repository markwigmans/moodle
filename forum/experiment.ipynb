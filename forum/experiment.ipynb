{
 "cells": [
  {
   "cell_type": "markdown",
   "metadata": {},
   "source": [
    "Test if we can better process the given input files by using more pandas functionality"
   ]
  },
  {
   "cell_type": "code",
   "execution_count": null,
   "metadata": {},
   "outputs": [],
   "source": [
    "import pandas as pd\n",
    "from dateutil import parser\n",
    "\n",
    "def read(forum:str):\n",
    "    df = pd.read_csv(f\"data/discussion-{forum}.csv\")\n",
    "    forum_name = f\"P-{forum}\"\n",
    "    df['forum'] = forum_name\n",
    "    df[forum_name] = 1\n",
    "    df['created'] = df['created'].apply(lambda d: parser.parse(d))\n",
    "    return df\n",
    "\n",
    "df1 = read(1)\n",
    "df2 = read(2)\n",
    "df3 = read(3)\n",
    "df4 = read(4)\n",
    "df5 = read(5)\n",
    "\n",
    "df = pd.concat([df1,df2,df3,df4,df5])"
   ]
  },
  {
   "cell_type": "markdown",
   "metadata": {},
   "source": [
    "Group data"
   ]
  },
  {
   "cell_type": "code",
   "execution_count": null,
   "metadata": {},
   "outputs": [],
   "source": [
    "grouped = df[['userfullname','forum']].groupby(by=['userfullname','forum'], as_index=False).size().sort_values(by=['userfullname'])\n",
    "\n"
   ]
  },
  {
   "cell_type": "code",
   "execution_count": null,
   "metadata": {},
   "outputs": [],
   "source": [
    "forums = pd.DataFrame(df.forum.unique(), columns=['forum'])\n",
    "ids =  pd.DataFrame(df.userfullname.unique(), columns=['userfullname'])\n",
    "product = ids.merge(forums, how='cross').sort_values(by=['userfullname','forum'])\n",
    "\n",
    "#product"
   ]
  },
  {
   "cell_type": "code",
   "execution_count": null,
   "metadata": {},
   "outputs": [],
   "source": [
    "merged = pd.merge(product, grouped, on=['userfullname','forum'], how='left').sort_values(by=['userfullname','forum'])\n",
    "merged = merged.fillna(0)"
   ]
  },
  {
   "cell_type": "code",
   "execution_count": null,
   "metadata": {},
   "outputs": [],
   "source": [
    "# flatten list\n",
    "forums_list = [x for row in forums.values.tolist() for x in row]\n",
    "df[forums_list + ['userfullname']].fillna(0).groupby(by=['userfullname'], as_index=False).size().sort_values(by=['userfullname'])"
   ]
  }
 ],
 "metadata": {
  "kernelspec": {
   "display_name": "Python 3",
   "language": "python",
   "name": "python3"
  },
  "language_info": {
   "codemirror_mode": {
    "name": "ipython",
    "version": 3
   },
   "file_extension": ".py",
   "mimetype": "text/x-python",
   "name": "python",
   "nbconvert_exporter": "python",
   "pygments_lexer": "ipython3",
   "version": "3.11.4"
  }
 },
 "nbformat": 4,
 "nbformat_minor": 2
}
